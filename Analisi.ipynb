{
 "cells": [
  {
   "cell_type": "code",
   "execution_count": 7,
   "id": "93a6b375-9203-4460-9cff-6bb486e8552c",
   "metadata": {},
   "outputs": [
    {
     "name": "stdout",
     "output_type": "stream",
     "text": [
      "/opt/homebrew/Cellar/jupyterlab/4.2.1/libexec/bin/python\n",
      "Requirement already satisfied: pandas in /opt/homebrew/Cellar/jupyterlab/4.2.1/libexec/lib/python3.12/site-packages (2.2.2)\n",
      "Requirement already satisfied: numpy>=1.26.0 in /opt/homebrew/Cellar/jupyterlab/4.2.1/libexec/lib/python3.12/site-packages (from pandas) (1.26.4)\n",
      "Requirement already satisfied: python-dateutil>=2.8.2 in /opt/homebrew/Cellar/jupyterlab/4.2.1/libexec/lib/python3.12/site-packages (from pandas) (2.9.0.post0)\n",
      "Requirement already satisfied: pytz>=2020.1 in /opt/homebrew/lib/python3.12/site-packages (from pandas) (2024.1)\n",
      "Requirement already satisfied: tzdata>=2022.7 in /opt/homebrew/Cellar/jupyterlab/4.2.1/libexec/lib/python3.12/site-packages (from pandas) (2024.1)\n",
      "Requirement already satisfied: six>=1.5 in /opt/homebrew/Cellar/jupyterlab/4.2.1/libexec/lib/python3.12/site-packages (from python-dateutil>=2.8.2->pandas) (1.16.0)\n"
     ]
    }
   ],
   "source": [
    "import sys\n",
    "print(sys.executable)\n",
    "!{sys.executable} -m pip install pandas"
   ]
  },
  {
   "cell_type": "code",
   "execution_count": 10,
   "id": "7ad61bc5-acd4-4b58-ba4b-6445991cf185",
   "metadata": {},
   "outputs": [],
   "source": [
    "import pandas as pd\n",
    "\n",
    "mapAddr2Ids = pd.read_csv(\"data/mapAddr2Ids.csv\")\n",
    "outputs = pd.read_csv(\"data/outputs.csv\")"
   ]
  },
  {
   "cell_type": "code",
   "execution_count": 67,
   "id": "a583fbdd-47f3-40ba-8000-96f7563c543a",
   "metadata": {},
   "outputs": [
    {
     "name": "stdout",
     "output_type": "stream",
     "text": [
      "<class 'pandas.core.frame.DataFrame'>\n",
      "Index: 21378770 entries, 171 to 10572826\n",
      "Data columns (total 2 columns):\n",
      " #   Column     Dtype \n",
      "---  ------     ----- \n",
      " 0   prevTxID   uint32\n",
      " 1   prevTxPos  uint32\n",
      "dtypes: uint32(2)\n",
      "memory usage: 244.7 MB\n"
     ]
    }
   ],
   "source": [
    "inputs_cname = [\"txID\", \"prevTxID\", \"prevTxPos\"]\n",
    "inputs_dtype_spec = {\n",
    "    inputs_cname[0]: \"uint32\",   \n",
    "    inputs_cname[1]: \"uint32\",\n",
    "    inputs_cname[2]: \"uint32\",\n",
    "}\n",
    "\n",
    "inputs = pd.read_csv(\"data/inputs.csv\", \n",
    "                        header=None, \n",
    "                        names=inputs_cname, \n",
    "                        dtype=inputs_dtype_spec,\n",
    "                        index_col=inputs_cname[0]\n",
    "                    )\n",
    "\n",
    "inputs.info()"
   ]
  },
  {
   "cell_type": "code",
   "execution_count": 93,
   "id": "5d759544-51d5-4d8a-b891-d2781700e68a",
   "metadata": {},
   "outputs": [],
   "source": [
    "trans_cname = [\"timestamp\", \"blockID\", \"txID\", \"isCoinbase\", \"fee\"]\n",
    "trans_dtype_spec = {\n",
    "    \"timestamp\": \"uint32\",   \n",
    "    \"blockID\": \"uint32\",\n",
    "    \"txID\": \"uint32\",\n",
    "    \"isCoinbase\": \"bool\",\n",
    "    \"fee\": \"uint32\"\n",
    "}\n",
    "\n",
    "transactions = pd.read_csv(\"data/transactions.csv\",\n",
    "                               header=None, \n",
    "                               names=trans_cname, \n",
    "                               dtype=trans_dtype_spec,\n",
    "                               index_col=trans_cname[2],\n",
    "                          )\n"
   ]
  },
  {
   "cell_type": "code",
   "execution_count": 99,
   "id": "8b8ca173-de7d-48b6-ab53-338a7e77f679",
   "metadata": {},
   "outputs": [
    {
     "name": "stdout",
     "output_type": "stream",
     "text": [
      "<class 'pandas.core.frame.DataFrame'>\n",
      "Index: 10358266 entries, 171 to 10572826\n",
      "Data columns (total 4 columns):\n",
      " #   Column      Dtype \n",
      "---  ------      ----- \n",
      " 0   timestamp   uint32\n",
      " 1   blockID     uint32\n",
      " 2   isCoinbase  bool  \n",
      " 3   fee         uint32\n",
      "dtypes: bool(1), uint32(3)\n",
      "memory usage: 167.9 MB\n"
     ]
    }
   ],
   "source": [
    "f_transactions = transactions[transactions['isCoinbase']==False]\n",
    "f_transactions = f_transactions.copy()\n",
    "f_transactions.info()"
   ]
  },
  {
   "cell_type": "code",
   "execution_count": 100,
   "id": "5725751c-3c83-43ac-aa39-090fb1c6d971",
   "metadata": {},
   "outputs": [
    {
     "data": {
      "text/html": [
       "<div>\n",
       "<style scoped>\n",
       "    .dataframe tbody tr th:only-of-type {\n",
       "        vertical-align: middle;\n",
       "    }\n",
       "\n",
       "    .dataframe tbody tr th {\n",
       "        vertical-align: top;\n",
       "    }\n",
       "\n",
       "    .dataframe thead th {\n",
       "        text-align: right;\n",
       "    }\n",
       "</style>\n",
       "<table border=\"1\" class=\"dataframe\">\n",
       "  <thead>\n",
       "    <tr style=\"text-align: right;\">\n",
       "      <th></th>\n",
       "      <th>timestamp</th>\n",
       "      <th>blockID</th>\n",
       "      <th>isCoinbase</th>\n",
       "      <th>fee</th>\n",
       "    </tr>\n",
       "    <tr>\n",
       "      <th>txID</th>\n",
       "      <th></th>\n",
       "      <th></th>\n",
       "      <th></th>\n",
       "      <th></th>\n",
       "    </tr>\n",
       "  </thead>\n",
       "  <tbody>\n",
       "    <tr>\n",
       "      <th>10572826</th>\n",
       "      <td>2012-12-31 23:52:37</td>\n",
       "      <td>214562</td>\n",
       "      <td>False</td>\n",
       "      <td>100000</td>\n",
       "    </tr>\n",
       "    <tr>\n",
       "      <th>10572664</th>\n",
       "      <td>2012-12-31 23:52:37</td>\n",
       "      <td>214562</td>\n",
       "      <td>False</td>\n",
       "      <td>50000</td>\n",
       "    </tr>\n",
       "    <tr>\n",
       "      <th>10572661</th>\n",
       "      <td>2012-12-31 23:52:37</td>\n",
       "      <td>214562</td>\n",
       "      <td>False</td>\n",
       "      <td>50000</td>\n",
       "    </tr>\n",
       "    <tr>\n",
       "      <th>10572660</th>\n",
       "      <td>2012-12-31 23:52:37</td>\n",
       "      <td>214562</td>\n",
       "      <td>False</td>\n",
       "      <td>50000</td>\n",
       "    </tr>\n",
       "    <tr>\n",
       "      <th>10572659</th>\n",
       "      <td>2012-12-31 23:52:37</td>\n",
       "      <td>214562</td>\n",
       "      <td>False</td>\n",
       "      <td>100000</td>\n",
       "    </tr>\n",
       "  </tbody>\n",
       "</table>\n",
       "</div>"
      ],
      "text/plain": [
       "                   timestamp  blockID  isCoinbase     fee\n",
       "txID                                                     \n",
       "10572826 2012-12-31 23:52:37   214562       False  100000\n",
       "10572664 2012-12-31 23:52:37   214562       False   50000\n",
       "10572661 2012-12-31 23:52:37   214562       False   50000\n",
       "10572660 2012-12-31 23:52:37   214562       False   50000\n",
       "10572659 2012-12-31 23:52:37   214562       False  100000"
      ]
     },
     "execution_count": 100,
     "metadata": {},
     "output_type": "execute_result"
    }
   ],
   "source": [
    "f_transactions['timestamp'] = pd.to_datetime(f_transactions['timestamp'], unit='s')\n",
    "f_transactions.sort_values(\"timestamp\", ascending=False, inplace=True)\n",
    "f_transactions.head()"
   ]
  },
  {
   "cell_type": "code",
   "execution_count": 112,
   "id": "621a80d6-45d6-4e7b-af33-93ef5748e589",
   "metadata": {},
   "outputs": [
    {
     "name": "stdout",
     "output_type": "stream",
     "text": [
      "<class 'pandas.core.series.Series'>\n",
      "4\n",
      "Index(['timestamp', 'blockID', 'isCoinbase', 'fee'], dtype='object')\n"
     ]
    }
   ],
   "source": [
    "first = f_transactions.iloc[0]\n",
    "print(type(first))\n",
    "print(len(first))\n",
    "print(first.index)\n"
   ]
  },
  {
   "cell_type": "code",
   "execution_count": 60,
   "id": "f678be28-d04f-4308-92eb-b79f6e8ce515",
   "metadata": {},
   "outputs": [
    {
     "ename": "ValueError",
     "evalue": "putmask: mask and data must be the same size",
     "output_type": "error",
     "traceback": [
      "\u001b[0;31m---------------------------------------------------------------------------\u001b[0m",
      "\u001b[0;31mValueError\u001b[0m                                Traceback (most recent call last)",
      "Cell \u001b[0;32mIn[60], line 1\u001b[0m\n\u001b[0;32m----> 1\u001b[0m no_in_trans \u001b[38;5;241m=\u001b[39m \u001b[43mf_transactions\u001b[49m\u001b[43m[\u001b[49m\u001b[43minputs\u001b[49m\u001b[38;5;241;43m.\u001b[39;49m\u001b[43mloc\u001b[49m\u001b[43m[\u001b[49m\u001b[43mf_transactions\u001b[49m\u001b[43m[\u001b[49m\u001b[38;5;124;43m'\u001b[39;49m\u001b[38;5;124;43mtxID\u001b[39;49m\u001b[38;5;124;43m'\u001b[39;49m\u001b[43m]\u001b[49m\u001b[43m]\u001b[49m\u001b[43m \u001b[49m\u001b[38;5;241;43m==\u001b[39;49m\u001b[43m \u001b[49m\u001b[38;5;28;43;01mNone\u001b[39;49;00m\u001b[43m]\u001b[49m\n",
      "File \u001b[0;32m/opt/homebrew/Cellar/jupyterlab/4.2.1/libexec/lib/python3.12/site-packages/pandas/core/frame.py:4089\u001b[0m, in \u001b[0;36mDataFrame.__getitem__\u001b[0;34m(self, key)\u001b[0m\n\u001b[1;32m   4087\u001b[0m \u001b[38;5;66;03m# Do we have a (boolean) DataFrame?\u001b[39;00m\n\u001b[1;32m   4088\u001b[0m \u001b[38;5;28;01mif\u001b[39;00m \u001b[38;5;28misinstance\u001b[39m(key, DataFrame):\n\u001b[0;32m-> 4089\u001b[0m     \u001b[38;5;28;01mreturn\u001b[39;00m \u001b[38;5;28;43mself\u001b[39;49m\u001b[38;5;241;43m.\u001b[39;49m\u001b[43mwhere\u001b[49m\u001b[43m(\u001b[49m\u001b[43mkey\u001b[49m\u001b[43m)\u001b[49m\n\u001b[1;32m   4091\u001b[0m \u001b[38;5;66;03m# Do we have a (boolean) 1d indexer?\u001b[39;00m\n\u001b[1;32m   4092\u001b[0m \u001b[38;5;28;01mif\u001b[39;00m com\u001b[38;5;241m.\u001b[39mis_bool_indexer(key):\n",
      "File \u001b[0;32m/opt/homebrew/Cellar/jupyterlab/4.2.1/libexec/lib/python3.12/site-packages/pandas/core/generic.py:10984\u001b[0m, in \u001b[0;36mNDFrame.where\u001b[0;34m(self, cond, other, inplace, axis, level)\u001b[0m\n\u001b[1;32m  10977\u001b[0m             warnings\u001b[38;5;241m.\u001b[39mwarn(\n\u001b[1;32m  10978\u001b[0m                 _chained_assignment_warning_method_msg,\n\u001b[1;32m  10979\u001b[0m                 \u001b[38;5;167;01mFutureWarning\u001b[39;00m,\n\u001b[1;32m  10980\u001b[0m                 stacklevel\u001b[38;5;241m=\u001b[39m\u001b[38;5;241m2\u001b[39m,\n\u001b[1;32m  10981\u001b[0m             )\n\u001b[1;32m  10983\u001b[0m other \u001b[38;5;241m=\u001b[39m common\u001b[38;5;241m.\u001b[39mapply_if_callable(other, \u001b[38;5;28mself\u001b[39m)\n\u001b[0;32m> 10984\u001b[0m \u001b[38;5;28;01mreturn\u001b[39;00m \u001b[38;5;28;43mself\u001b[39;49m\u001b[38;5;241;43m.\u001b[39;49m\u001b[43m_where\u001b[49m\u001b[43m(\u001b[49m\u001b[43mcond\u001b[49m\u001b[43m,\u001b[49m\u001b[43m \u001b[49m\u001b[43mother\u001b[49m\u001b[43m,\u001b[49m\u001b[43m \u001b[49m\u001b[43minplace\u001b[49m\u001b[43m,\u001b[49m\u001b[43m \u001b[49m\u001b[43maxis\u001b[49m\u001b[43m,\u001b[49m\u001b[43m \u001b[49m\u001b[43mlevel\u001b[49m\u001b[43m)\u001b[49m\n",
      "File \u001b[0;32m/opt/homebrew/Cellar/jupyterlab/4.2.1/libexec/lib/python3.12/site-packages/pandas/core/generic.py:10759\u001b[0m, in \u001b[0;36mNDFrame._where\u001b[0;34m(self, cond, other, inplace, axis, level, warn)\u001b[0m\n\u001b[1;32m  10756\u001b[0m     \u001b[38;5;28;01mreturn\u001b[39;00m \u001b[38;5;28mself\u001b[39m\u001b[38;5;241m.\u001b[39m_update_inplace(result)\n\u001b[1;32m  10758\u001b[0m \u001b[38;5;28;01melse\u001b[39;00m:\n\u001b[0;32m> 10759\u001b[0m     new_data \u001b[38;5;241m=\u001b[39m \u001b[38;5;28;43mself\u001b[39;49m\u001b[38;5;241;43m.\u001b[39;49m\u001b[43m_mgr\u001b[49m\u001b[38;5;241;43m.\u001b[39;49m\u001b[43mwhere\u001b[49m\u001b[43m(\u001b[49m\n\u001b[1;32m  10760\u001b[0m \u001b[43m        \u001b[49m\u001b[43mother\u001b[49m\u001b[38;5;241;43m=\u001b[39;49m\u001b[43mother\u001b[49m\u001b[43m,\u001b[49m\n\u001b[1;32m  10761\u001b[0m \u001b[43m        \u001b[49m\u001b[43mcond\u001b[49m\u001b[38;5;241;43m=\u001b[39;49m\u001b[43mcond\u001b[49m\u001b[43m,\u001b[49m\n\u001b[1;32m  10762\u001b[0m \u001b[43m        \u001b[49m\u001b[43malign\u001b[49m\u001b[38;5;241;43m=\u001b[39;49m\u001b[43malign\u001b[49m\u001b[43m,\u001b[49m\n\u001b[1;32m  10763\u001b[0m \u001b[43m    \u001b[49m\u001b[43m)\u001b[49m\n\u001b[1;32m  10764\u001b[0m     result \u001b[38;5;241m=\u001b[39m \u001b[38;5;28mself\u001b[39m\u001b[38;5;241m.\u001b[39m_constructor_from_mgr(new_data, axes\u001b[38;5;241m=\u001b[39mnew_data\u001b[38;5;241m.\u001b[39maxes)\n\u001b[1;32m  10765\u001b[0m     \u001b[38;5;28;01mreturn\u001b[39;00m result\u001b[38;5;241m.\u001b[39m__finalize__(\u001b[38;5;28mself\u001b[39m)\n",
      "File \u001b[0;32m/opt/homebrew/Cellar/jupyterlab/4.2.1/libexec/lib/python3.12/site-packages/pandas/core/internals/base.py:204\u001b[0m, in \u001b[0;36mDataManager.where\u001b[0;34m(self, other, cond, align)\u001b[0m\n\u001b[1;32m    201\u001b[0m     align_keys \u001b[38;5;241m=\u001b[39m [\u001b[38;5;124m\"\u001b[39m\u001b[38;5;124mcond\u001b[39m\u001b[38;5;124m\"\u001b[39m]\n\u001b[1;32m    202\u001b[0m     other \u001b[38;5;241m=\u001b[39m extract_array(other, extract_numpy\u001b[38;5;241m=\u001b[39m\u001b[38;5;28;01mTrue\u001b[39;00m)\n\u001b[0;32m--> 204\u001b[0m \u001b[38;5;28;01mreturn\u001b[39;00m \u001b[38;5;28;43mself\u001b[39;49m\u001b[38;5;241;43m.\u001b[39;49m\u001b[43mapply_with_block\u001b[49m\u001b[43m(\u001b[49m\n\u001b[1;32m    205\u001b[0m \u001b[43m    \u001b[49m\u001b[38;5;124;43m\"\u001b[39;49m\u001b[38;5;124;43mwhere\u001b[39;49m\u001b[38;5;124;43m\"\u001b[39;49m\u001b[43m,\u001b[49m\n\u001b[1;32m    206\u001b[0m \u001b[43m    \u001b[49m\u001b[43malign_keys\u001b[49m\u001b[38;5;241;43m=\u001b[39;49m\u001b[43malign_keys\u001b[49m\u001b[43m,\u001b[49m\n\u001b[1;32m    207\u001b[0m \u001b[43m    \u001b[49m\u001b[43mother\u001b[49m\u001b[38;5;241;43m=\u001b[39;49m\u001b[43mother\u001b[49m\u001b[43m,\u001b[49m\n\u001b[1;32m    208\u001b[0m \u001b[43m    \u001b[49m\u001b[43mcond\u001b[49m\u001b[38;5;241;43m=\u001b[39;49m\u001b[43mcond\u001b[49m\u001b[43m,\u001b[49m\n\u001b[1;32m    209\u001b[0m \u001b[43m    \u001b[49m\u001b[43musing_cow\u001b[49m\u001b[38;5;241;43m=\u001b[39;49m\u001b[43musing_copy_on_write\u001b[49m\u001b[43m(\u001b[49m\u001b[43m)\u001b[49m\u001b[43m,\u001b[49m\n\u001b[1;32m    210\u001b[0m \u001b[43m\u001b[49m\u001b[43m)\u001b[49m\n",
      "File \u001b[0;32m/opt/homebrew/Cellar/jupyterlab/4.2.1/libexec/lib/python3.12/site-packages/pandas/core/internals/managers.py:363\u001b[0m, in \u001b[0;36mBaseBlockManager.apply\u001b[0;34m(self, f, align_keys, **kwargs)\u001b[0m\n\u001b[1;32m    361\u001b[0m         applied \u001b[38;5;241m=\u001b[39m b\u001b[38;5;241m.\u001b[39mapply(f, \u001b[38;5;241m*\u001b[39m\u001b[38;5;241m*\u001b[39mkwargs)\n\u001b[1;32m    362\u001b[0m     \u001b[38;5;28;01melse\u001b[39;00m:\n\u001b[0;32m--> 363\u001b[0m         applied \u001b[38;5;241m=\u001b[39m \u001b[38;5;28;43mgetattr\u001b[39;49m\u001b[43m(\u001b[49m\u001b[43mb\u001b[49m\u001b[43m,\u001b[49m\u001b[43m \u001b[49m\u001b[43mf\u001b[49m\u001b[43m)\u001b[49m\u001b[43m(\u001b[49m\u001b[38;5;241;43m*\u001b[39;49m\u001b[38;5;241;43m*\u001b[39;49m\u001b[43mkwargs\u001b[49m\u001b[43m)\u001b[49m\n\u001b[1;32m    364\u001b[0m     result_blocks \u001b[38;5;241m=\u001b[39m extend_blocks(applied, result_blocks)\n\u001b[1;32m    366\u001b[0m out \u001b[38;5;241m=\u001b[39m \u001b[38;5;28mtype\u001b[39m(\u001b[38;5;28mself\u001b[39m)\u001b[38;5;241m.\u001b[39mfrom_blocks(result_blocks, \u001b[38;5;28mself\u001b[39m\u001b[38;5;241m.\u001b[39maxes)\n",
      "File \u001b[0;32m/opt/homebrew/Cellar/jupyterlab/4.2.1/libexec/lib/python3.12/site-packages/pandas/core/internals/blocks.py:1554\u001b[0m, in \u001b[0;36mBlock.where\u001b[0;34m(self, other, cond, _downcast, using_cow)\u001b[0m\n\u001b[1;32m   1551\u001b[0m \u001b[38;5;28;01mif\u001b[39;00m transpose:\n\u001b[1;32m   1552\u001b[0m     values \u001b[38;5;241m=\u001b[39m values\u001b[38;5;241m.\u001b[39mT\n\u001b[0;32m-> 1554\u001b[0m icond, noop \u001b[38;5;241m=\u001b[39m \u001b[43mvalidate_putmask\u001b[49m\u001b[43m(\u001b[49m\u001b[43mvalues\u001b[49m\u001b[43m,\u001b[49m\u001b[43m \u001b[49m\u001b[38;5;241;43m~\u001b[39;49m\u001b[43mcond\u001b[49m\u001b[43m)\u001b[49m\n\u001b[1;32m   1555\u001b[0m \u001b[38;5;28;01mif\u001b[39;00m noop:\n\u001b[1;32m   1556\u001b[0m     \u001b[38;5;66;03m# GH-39595: Always return a copy; short-circuit up/downcasting\u001b[39;00m\n\u001b[1;32m   1557\u001b[0m     \u001b[38;5;28;01mif\u001b[39;00m using_cow:\n",
      "File \u001b[0;32m/opt/homebrew/Cellar/jupyterlab/4.2.1/libexec/lib/python3.12/site-packages/pandas/core/array_algos/putmask.py:109\u001b[0m, in \u001b[0;36mvalidate_putmask\u001b[0;34m(values, mask)\u001b[0m\n\u001b[1;32m    107\u001b[0m mask \u001b[38;5;241m=\u001b[39m extract_bool_array(mask)\n\u001b[1;32m    108\u001b[0m \u001b[38;5;28;01mif\u001b[39;00m mask\u001b[38;5;241m.\u001b[39mshape \u001b[38;5;241m!=\u001b[39m values\u001b[38;5;241m.\u001b[39mshape:\n\u001b[0;32m--> 109\u001b[0m     \u001b[38;5;28;01mraise\u001b[39;00m \u001b[38;5;167;01mValueError\u001b[39;00m(\u001b[38;5;124m\"\u001b[39m\u001b[38;5;124mputmask: mask and data must be the same size\u001b[39m\u001b[38;5;124m\"\u001b[39m)\n\u001b[1;32m    111\u001b[0m noop \u001b[38;5;241m=\u001b[39m \u001b[38;5;129;01mnot\u001b[39;00m mask\u001b[38;5;241m.\u001b[39many()\n\u001b[1;32m    112\u001b[0m \u001b[38;5;28;01mreturn\u001b[39;00m mask, noop\n",
      "\u001b[0;31mValueError\u001b[0m: putmask: mask and data must be the same size"
     ]
    }
   ],
   "source": [
    "no_in_trans = f_transactions[inputs.loc[f_transactions['txID']] == None]"
   ]
  },
  {
   "cell_type": "code",
   "execution_count": 55,
   "id": "5a518c37-204f-46af-9d91-e4cb86c75b48",
   "metadata": {},
   "outputs": [
    {
     "name": "stdout",
     "output_type": "stream",
     "text": [
      "<class 'pandas.core.frame.DataFrame'>\n",
      "Index: 21378770 entries, 171 to 21593332\n",
      "Data columns (total 7 columns):\n",
      " #   Column      Dtype  \n",
      "---  ------      -----  \n",
      " 0   timestamp   uint32 \n",
      " 1   blockID     uint32 \n",
      " 2   txID        uint32 \n",
      " 3   isCoinbase  bool   \n",
      " 4   fee         uint32 \n",
      " 5   prevTxID    float64\n",
      " 6   prevTxPos   float64\n",
      "dtypes: bool(1), float64(2), uint32(4)\n",
      "memory usage: 835.9 MB\n"
     ]
    },
    {
     "data": {
      "text/html": [
       "<div>\n",
       "<style scoped>\n",
       "    .dataframe tbody tr th:only-of-type {\n",
       "        vertical-align: middle;\n",
       "    }\n",
       "\n",
       "    .dataframe tbody tr th {\n",
       "        vertical-align: top;\n",
       "    }\n",
       "\n",
       "    .dataframe thead th {\n",
       "        text-align: right;\n",
       "    }\n",
       "</style>\n",
       "<table border=\"1\" class=\"dataframe\">\n",
       "  <thead>\n",
       "    <tr style=\"text-align: right;\">\n",
       "      <th></th>\n",
       "      <th>timestamp</th>\n",
       "      <th>blockID</th>\n",
       "      <th>txID</th>\n",
       "      <th>isCoinbase</th>\n",
       "      <th>fee</th>\n",
       "      <th>prevTxID</th>\n",
       "      <th>prevTxPos</th>\n",
       "    </tr>\n",
       "  </thead>\n",
       "  <tbody>\n",
       "    <tr>\n",
       "      <th>21593328</th>\n",
       "      <td>1356997957</td>\n",
       "      <td>214562</td>\n",
       "      <td>10572823</td>\n",
       "      <td>False</td>\n",
       "      <td>100000</td>\n",
       "      <td>10572820.0</td>\n",
       "      <td>7.0</td>\n",
       "    </tr>\n",
       "    <tr>\n",
       "      <th>21593329</th>\n",
       "      <td>1356997957</td>\n",
       "      <td>214562</td>\n",
       "      <td>10572824</td>\n",
       "      <td>False</td>\n",
       "      <td>100000</td>\n",
       "      <td>10572820.0</td>\n",
       "      <td>5.0</td>\n",
       "    </tr>\n",
       "    <tr>\n",
       "      <th>21593330</th>\n",
       "      <td>1356997957</td>\n",
       "      <td>214562</td>\n",
       "      <td>10572825</td>\n",
       "      <td>False</td>\n",
       "      <td>100000</td>\n",
       "      <td>10572820.0</td>\n",
       "      <td>6.0</td>\n",
       "    </tr>\n",
       "    <tr>\n",
       "      <th>21593331</th>\n",
       "      <td>1356997957</td>\n",
       "      <td>214562</td>\n",
       "      <td>10572826</td>\n",
       "      <td>False</td>\n",
       "      <td>100000</td>\n",
       "      <td>10572820.0</td>\n",
       "      <td>2.0</td>\n",
       "    </tr>\n",
       "    <tr>\n",
       "      <th>21593332</th>\n",
       "      <td>1356997957</td>\n",
       "      <td>214562</td>\n",
       "      <td>10572826</td>\n",
       "      <td>False</td>\n",
       "      <td>100000</td>\n",
       "      <td>10569364.0</td>\n",
       "      <td>4.0</td>\n",
       "    </tr>\n",
       "  </tbody>\n",
       "</table>\n",
       "</div>"
      ],
      "text/plain": [
       "           timestamp  blockID      txID  isCoinbase     fee    prevTxID  \\\n",
       "21593328  1356997957   214562  10572823       False  100000  10572820.0   \n",
       "21593329  1356997957   214562  10572824       False  100000  10572820.0   \n",
       "21593330  1356997957   214562  10572825       False  100000  10572820.0   \n",
       "21593331  1356997957   214562  10572826       False  100000  10572820.0   \n",
       "21593332  1356997957   214562  10572826       False  100000  10569364.0   \n",
       "\n",
       "          prevTxPos  \n",
       "21593328        7.0  \n",
       "21593329        5.0  \n",
       "21593330        6.0  \n",
       "21593331        2.0  \n",
       "21593332        4.0  "
      ]
     },
     "execution_count": 55,
     "metadata": {},
     "output_type": "execute_result"
    }
   ],
   "source": [
    "no_in_trans.info()\n",
    "no_in_trans.tail()"
   ]
  },
  {
   "cell_type": "code",
   "execution_count": 61,
   "id": "80217649-2d02-4618-9588-f0a09af76d02",
   "metadata": {},
   "outputs": [],
   "source": [
    "series1 = pd.Series([1, 3, 5, 7, 9])\n",
    "series2 = pd.Series([1, 2, 4, 6, 8])"
   ]
  },
  {
   "cell_type": "code",
   "execution_count": 64,
   "id": "af00e3ea-54f3-46fa-8c80-bfdb256afd84",
   "metadata": {},
   "outputs": [],
   "source": [
    "difference = series1 - series2\n"
   ]
  },
  {
   "cell_type": "code",
   "execution_count": 65,
   "id": "19da663a-32cf-4675-8808-44ccf8d41474",
   "metadata": {},
   "outputs": [
    {
     "name": "stdout",
     "output_type": "stream",
     "text": [
      "0    0\n",
      "1    1\n",
      "2    1\n",
      "3    1\n",
      "4    1\n",
      "dtype: int64\n"
     ]
    }
   ],
   "source": [
    "print(difference)\n"
   ]
  },
  {
   "cell_type": "code",
   "execution_count": null,
   "id": "2f59f623-45f8-481a-81d8-0b75e88cf515",
   "metadata": {},
   "outputs": [],
   "source": []
  }
 ],
 "metadata": {
  "kernelspec": {
   "display_name": "Python 3 (ipykernel)",
   "language": "python",
   "name": "python3"
  },
  "language_info": {
   "codemirror_mode": {
    "name": "ipython",
    "version": 3
   },
   "file_extension": ".py",
   "mimetype": "text/x-python",
   "name": "python",
   "nbconvert_exporter": "python",
   "pygments_lexer": "ipython3",
   "version": "3.12.3"
  }
 },
 "nbformat": 4,
 "nbformat_minor": 5
}
