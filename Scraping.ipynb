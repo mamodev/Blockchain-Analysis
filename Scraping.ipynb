{
 "cells": [
  {
   "cell_type": "code",
   "execution_count": 3,
   "id": "bc16c12d-efbe-40d1-bcde-b7e75472363a",
   "metadata": {
    "editable": true,
    "slideshow": {
     "slide_type": ""
    },
    "tags": []
   },
   "outputs": [],
   "source": [
    "import time\n",
    "import pandas as pd\n",
    "import numpy as np\n",
    "import matplotlib.pyplot as plt\n",
    "\n",
    "# Web scraping\n",
    "import requests\n",
    "import re\n",
    "from bs4 import BeautifulSoup \n",
    "\n",
    "import gc;"
   ]
  },
  {
   "cell_type": "code",
   "execution_count": null,
   "id": "afe9c919-d4f8-41f2-8a16-14f6f3f7b52d",
   "metadata": {
    "editable": true,
    "slideshow": {
     "slide_type": ""
    },
    "tags": []
   },
   "outputs": [],
   "source": [
    "gc.collect()"
   ]
  },
  {
   "cell_type": "code",
   "execution_count": 7,
   "id": "ea1d9e76-d763-4162-a902-7c0d8027b3d2",
   "metadata": {
    "editable": true,
    "slideshow": {
     "slide_type": ""
    },
    "tags": []
   },
   "outputs": [],
   "source": [
    "def load_raw_outputs():\n",
    "  outputs_cname = [\n",
    "                \"txID\", \n",
    "                \"position\", \n",
    "                \"addressID\",\n",
    "                \"amount\",\n",
    "                \"scriptType\"\n",
    "              ]\n",
    "\n",
    "  outputs_dtype_spec = {\n",
    "    outputs_cname[0]: \"uint32\",   \n",
    "    outputs_cname[1]: \"uint32\",\n",
    "    outputs_cname[2]: \"uint32\",\n",
    "    outputs_cname[3]: \"uint32\",\n",
    "    outputs_cname[4]: \"uint8\",\n",
    "  }\n",
    "\n",
    "  outputs = pd.read_csv(\"data/outputs.csv\", \n",
    "                        # usecols=[0, 1, 2, 4],\n",
    "                        header=None, \n",
    "                        names=outputs_cname, \n",
    "                        dtype=outputs_dtype_spec,\n",
    "                        index_col=[outputs_cname[0], outputs_cname[1]], #txID, position\n",
    "                    )\n",
    "  \n",
    "  return outputs\n",
    "\n",
    "def load_raw_transactions():\n",
    "  trans_cname = [\"timestamp\", \"blockID\", \"txID\", \"isCoinbase\", \"fee\"]\n",
    "  trans_dtype_spec = {\n",
    "      \"timestamp\": \"uint32\",   \n",
    "      \"blockID\": \"uint32\",\n",
    "      \"txID\": \"uint32\",\n",
    "      \"isCoinbase\": \"bool\",\n",
    "      \"fee\": \"uint32\"\n",
    "  }\n",
    "\n",
    "  transactions = pd.read_csv(\"data/transactions.csv\",\n",
    "                                # usecols=[0, 2, 3, 4],\n",
    "                                header=None, \n",
    "                                names=trans_cname, \n",
    "                                dtype=trans_dtype_spec,\n",
    "                                index_col=trans_cname[2], #txID\n",
    "                                engine='c'\n",
    "                            )\n",
    "\n",
    "  return transactions\n",
    "\n",
    "def load_raw_addresses():\n",
    "  addr_map_cname = [\n",
    "                      \"address\", \n",
    "                      \"addressID\", \n",
    "                  ]\n",
    "\n",
    "  addr_map_dtype_spec = {\n",
    "      addr_map_cname[0]: \"string\",   \n",
    "      addr_map_cname[1]: \"int32\",\n",
    "  }\n",
    "\n",
    "  addr_map = pd.read_csv(\"data/mapAddr2Ids.csv\", \n",
    "                          header=None, \n",
    "                          names=addr_map_cname, \n",
    "                          dtype=addr_map_dtype_spec,\n",
    "                          index_col=addr_map_cname[1],\n",
    "                      )\n",
    "  return addr_map"
   ]
  },
  {
   "cell_type": "code",
   "execution_count": 8,
   "id": "44a2d0fc-be0c-46fc-952d-ff133eb2a33b",
   "metadata": {
    "editable": true,
    "slideshow": {
     "slide_type": ""
    },
    "tags": []
   },
   "outputs": [],
   "source": [
    "outputs = load_raw_outputs()"
   ]
  },
  {
   "cell_type": "code",
   "execution_count": 9,
   "id": "9d93bd37-651a-4c71-9c2b-3e354b3384f8",
   "metadata": {},
   "outputs": [],
   "source": [
    "addresses = load_raw_addresses()\n",
    "transactions = load_raw_transactions()"
   ]
  },
  {
   "cell_type": "code",
   "execution_count": 10,
   "id": "9a1d2081-a8f5-49d9-b8e4-281a050b8a12",
   "metadata": {
    "editable": true,
    "slideshow": {
     "slide_type": ""
    },
    "tags": []
   },
   "outputs": [],
   "source": [
    "transactions = transactions[transactions['isCoinbase']]"
   ]
  },
  {
   "cell_type": "code",
   "execution_count": 11,
   "id": "e49439c1-118e-461d-ab5b-fd225729d540",
   "metadata": {
    "editable": true,
    "slideshow": {
     "slide_type": ""
    },
    "tags": []
   },
   "outputs": [],
   "source": [
    "outputs = outputs[outputs.index.get_level_values('txID').isin(transactions.index)]"
   ]
  },
  {
   "cell_type": "code",
   "execution_count": null,
   "id": "11b6dc76-9303-4f0b-b860-e2838253b1be",
   "metadata": {
    "editable": true,
    "slideshow": {
     "slide_type": ""
    },
    "tags": []
   },
   "outputs": [],
   "source": [
    "addresses = addresses[addresses.index.isin(outputs['addressID'])]"
   ]
  },
  {
   "cell_type": "code",
   "execution_count": null,
   "id": "99361210-9d95-47e2-b9ef-8b7648194c33",
   "metadata": {},
   "outputs": [],
   "source": []
  },
  {
   "cell_type": "code",
   "execution_count": null,
   "id": "f17e10ad-b80e-4aae-aadd-05573d2f40fc",
   "metadata": {
    "editable": true,
    "slideshow": {
     "slide_type": ""
    },
    "tags": []
   },
   "outputs": [],
   "source": [
    "BASE_URL=\"http://www.walletexplorer.com\"\n",
    "KNOWN_WALLETS = [\"DeepBit\", \"Eligius\", \"BTC Guild\", \"BitMinter\"]"
   ]
  },
  {
   "cell_type": "code",
   "execution_count": null,
   "id": "4d81976f-d39b-4d00-8281-034eed80b13a",
   "metadata": {
    "editable": true,
    "slideshow": {
     "slide_type": ""
    },
    "tags": []
   },
   "outputs": [],
   "source": [
    "def get_page_number(soup, res): \n",
    "    paging_container = soup.find('div', class_='paging')\n",
    "    if not paging_container:\n",
    "        print(res)\n",
    "    assert(paging_container)\n",
    "\n",
    "    paging_text = paging_container.text.strip()\n",
    "    match = re.search(r'Page (\\d+) \\/ (\\d+)', paging_text)\n",
    "    assert(match)\n",
    "    \n",
    "    total_pages = match.group(2)\n",
    "    return int(total_pages)\n",
    "    \n",
    "def add_wallet_address(name, addrMap, sleep=1):\n",
    "    curr_page = 0;\n",
    "    page_number = 1;\n",
    "\n",
    "    formatted_name = name.replace(\" \", \"\")\n",
    "    url = f\"{BASE_URL}/wallet/{formatted_name}/addresses\"\n",
    "    print(f\"Loading wallet: {url}\")\n",
    "    while curr_page < page_number: \n",
    "        curr_page += 1\n",
    "        \n",
    "        params = {'page': curr_page}\n",
    "        response = requests.get(url, params=params)\n",
    "        \n",
    "        if response.url.split(\"?\")[0] != url:\n",
    "            url = response.url\n",
    "            response = requests.get(url, params=params)\n",
    "\n",
    "        soup = BeautifulSoup(response.content, 'html.parser')\n",
    "\n",
    "        if curr_page == 1:\n",
    "            page_number = get_page_number(soup, response)\n",
    "        \n",
    "        links = soup.find_all('a', href=lambda href: href and href.startswith('/address/'))    \n",
    "        assert(links and len(links) > 0)\n",
    "    \n",
    "        for link in links: \n",
    "            addr = link['href'][9:]\n",
    "            addrMap[addr]=name\n",
    "            \n",
    "        print(f\"Found {len(links)} links for {name} page: {curr_page}/{page_number}\")\n",
    "        time.sleep(sleep)"
   ]
  },
  {
   "cell_type": "code",
   "execution_count": null,
   "id": "3a79eda6-d090-47a1-a342-e07c6b49defb",
   "metadata": {},
   "outputs": [],
   "source": [
    "addrMap = {}"
   ]
  },
  {
   "cell_type": "code",
   "execution_count": null,
   "id": "944f70f2-d15d-425b-90e9-381d215e1905",
   "metadata": {},
   "outputs": [],
   "source": [
    "add_wallet_address(KNOWN_WALLETS[0], addrMap)"
   ]
  },
  {
   "cell_type": "code",
   "execution_count": null,
   "id": "cac8fcbf-fbf7-4de9-aeda-b7e235ca0146",
   "metadata": {},
   "outputs": [],
   "source": [
    "add_wallet_address(KNOWN_WALLETS[1], addrMap)"
   ]
  },
  {
   "cell_type": "code",
   "execution_count": null,
   "id": "5c5bee41-facb-4087-a688-a6d130650839",
   "metadata": {},
   "outputs": [],
   "source": [
    "add_wallet_address(KNOWN_WALLETS[2], addrMap, 3)"
   ]
  },
  {
   "cell_type": "code",
   "execution_count": null,
   "id": "7030af44-d5a7-4a51-90a8-36709bb5a8ef",
   "metadata": {},
   "outputs": [],
   "source": [
    "add_wallet_address(KNOWN_WALLETS[3], addrMap)"
   ]
  },
  {
   "cell_type": "code",
   "execution_count": null,
   "id": "f2281a70-2f38-44cf-823c-71064b3ad61c",
   "metadata": {},
   "outputs": [],
   "source": [
    "coinbase_addresses = addresses"
   ]
  },
  {
   "cell_type": "code",
   "execution_count": null,
   "id": "2d5e20ed-8625-4237-9d17-b91b3265a072",
   "metadata": {
    "editable": true,
    "slideshow": {
     "slide_type": ""
    },
    "tags": []
   },
   "outputs": [],
   "source": [
    "coinbase_addresses['wallet'] = coinbase_addresses['address'].map(addrMap)"
   ]
  },
  {
   "cell_type": "code",
   "execution_count": null,
   "id": "78d62393-dfcb-471d-b7f7-c42ce72961b2",
   "metadata": {
    "editable": true,
    "slideshow": {
     "slide_type": ""
    },
    "tags": []
   },
   "outputs": [],
   "source": [
    "not_anon_size = len(coinbase_addresses[~coinbase_addresses['wallet'].isna()])\n",
    "size = len(coinbase_addresses)\n",
    "\n",
    "print(f\"Deanonimized {not_anon_size}/{size}\")"
   ]
  },
  {
   "cell_type": "code",
   "execution_count": null,
   "id": "a4dd1c31-58d1-48fa-8fa8-7ac5d32a470e",
   "metadata": {
    "editable": true,
    "slideshow": {
     "slide_type": ""
    },
    "tags": []
   },
   "outputs": [],
   "source": [
    "tx_per_addr = outputs.reset_index()[['amount', 'addressID']].groupby('addressID').count()\n",
    "\n",
    "tx_per_addr = tx_per_addr.join(coinbase_addresses)\n",
    "\n",
    "tx_per_addr = tx_per_addr[tx_per_addr['wallet'].isna()]\n",
    "\n",
    "tx_per_addr = tx_per_addr.sort_values('amount', ascending=False)"
   ]
  },
  {
   "cell_type": "code",
   "execution_count": null,
   "id": "c01be8c8-5201-4139-9b89-530afaf5bc72",
   "metadata": {
    "editable": true,
    "slideshow": {
     "slide_type": ""
    },
    "tags": []
   },
   "outputs": [],
   "source": [
    "def get_addr_wallet(addr):\n",
    "    response = requests.get(f\"{BASE_URL}/address/{addr}\")\n",
    "    soup = BeautifulSoup(response.content, 'html.parser')\n",
    "   \n",
    "    walletnote_div = soup.find('div', class_='walletnote')\n",
    "    assert(walletnote_div)\n",
    "    link = walletnote_div.find('a', href=lambda href: href and href.startswith('/wallet/'))    \n",
    "    assert(link)\n",
    "    link_url = link['href']\n",
    "    wallet = link_url[8:]\n",
    "    assert(len(wallet) > 0)\n",
    "    \n",
    "    return wallet"
   ]
  },
  {
   "cell_type": "code",
   "execution_count": null,
   "id": "8a433ef9-3732-4f5c-b0af-8e521a6e47e6",
   "metadata": {
    "editable": true,
    "slideshow": {
     "slide_type": ""
    },
    "tags": []
   },
   "outputs": [],
   "source": [
    "found_wallets = []\n",
    "N_TOP = 4\n",
    "i = 0\n",
    "\n",
    "prev_len = len(addrMap)\n",
    "\n",
    "while len(found_wallets) < min(N_TOP, len(tx_per_addr)):\n",
    "    wallet = get_addr_wallet(top_4_solo_miners.iloc[i]['address'])\n",
    "    if wallet in found_wallets:\n",
    "        continue\n",
    "\n",
    "    add_wallet_address(wallet, addrMap)\n",
    "    found_wallets.append(wallet)\n",
    "    i = i+1\n",
    "\n",
    "assert len(found_wallets) == N_TOP, \"Unexpeced error...\"\n",
    "\n",
    "print(f\"Found {len(addrMap) - prev_len} new addresses\")"
   ]
  },
  {
   "cell_type": "code",
   "execution_count": null,
   "id": "f75550b8-8290-4348-a775-ffb4d4cf562b",
   "metadata": {},
   "outputs": [],
   "source": [
    "coinbase_addresses['wallet'] = coinbase_addresses['address'].map(addrMap).fillna('Others')"
   ]
  },
  {
   "cell_type": "code",
   "execution_count": null,
   "id": "46ca7899-196f-4703-ace2-dbf5f076e58a",
   "metadata": {},
   "outputs": [],
   "source": [
    "not_anon_size_old = not_anon_size\n",
    "\n",
    "not_anon_size = len(coinbase_addresses[~coinbase_addresses['wallet'].isna()])\n",
    "size = len(coinbase_addresses)\n",
    "\n",
    "print(f\"Deanonimized {not_anon_size}/{size}, prev: {not_anon_size_old}/{size}\")"
   ]
  },
  {
   "cell_type": "code",
   "execution_count": null,
   "id": "2dd2e6cd-3b2f-4cff-b6fd-693de2128009",
   "metadata": {},
   "outputs": [],
   "source": [
    "coinbase_addresses"
   ]
  },
  {
   "cell_type": "code",
   "execution_count": null,
   "id": "732b9257-c517-4857-be6e-9d5375d26b72",
   "metadata": {
    "editable": true,
    "slideshow": {
     "slide_type": ""
    },
    "tags": []
   },
   "outputs": [],
   "source": [
    "coinbase_addresses.to_csv('data/deanonaddr.csv')"
   ]
  },
  {
   "cell_type": "code",
   "execution_count": 4,
   "id": "15711061-92d6-4bd3-830f-515bd9ba7118",
   "metadata": {
    "editable": true,
    "slideshow": {
     "slide_type": ""
    },
    "tags": []
   },
   "outputs": [],
   "source": [
    "coinbase_addresses = pd.read_csv(\"data/deanonaddr.csv\", index_col=['addressID'])\n"
   ]
  },
  {
   "cell_type": "code",
   "execution_count": 13,
   "id": "c4ae4926-0de4-4187-997d-ca3a94f6d6db",
   "metadata": {
    "editable": true,
    "slideshow": {
     "slide_type": ""
    },
    "tags": []
   },
   "outputs": [
    {
     "data": {
      "text/html": [
       "<div>\n",
       "<style scoped>\n",
       "    .dataframe tbody tr th:only-of-type {\n",
       "        vertical-align: middle;\n",
       "    }\n",
       "\n",
       "    .dataframe tbody tr th {\n",
       "        vertical-align: top;\n",
       "    }\n",
       "\n",
       "    .dataframe thead th {\n",
       "        text-align: right;\n",
       "    }\n",
       "</style>\n",
       "<table border=\"1\" class=\"dataframe\">\n",
       "  <thead>\n",
       "    <tr style=\"text-align: right;\">\n",
       "      <th></th>\n",
       "      <th>timestamp</th>\n",
       "    </tr>\n",
       "    <tr>\n",
       "      <th>txID</th>\n",
       "      <th></th>\n",
       "    </tr>\n",
       "  </thead>\n",
       "  <tbody>\n",
       "    <tr>\n",
       "      <th>0</th>\n",
       "      <td>1231006505</td>\n",
       "    </tr>\n",
       "    <tr>\n",
       "      <th>1</th>\n",
       "      <td>1231469665</td>\n",
       "    </tr>\n",
       "    <tr>\n",
       "      <th>2</th>\n",
       "      <td>1231469744</td>\n",
       "    </tr>\n",
       "    <tr>\n",
       "      <th>3</th>\n",
       "      <td>1231470173</td>\n",
       "    </tr>\n",
       "    <tr>\n",
       "      <th>4</th>\n",
       "      <td>1231470988</td>\n",
       "    </tr>\n",
       "    <tr>\n",
       "      <th>...</th>\n",
       "      <td>...</td>\n",
       "    </tr>\n",
       "    <tr>\n",
       "      <th>10571747</th>\n",
       "      <td>1356996072</td>\n",
       "    </tr>\n",
       "    <tr>\n",
       "      <th>10572165</th>\n",
       "      <td>1356996754</td>\n",
       "    </tr>\n",
       "    <tr>\n",
       "      <th>10572424</th>\n",
       "      <td>1356997908</td>\n",
       "    </tr>\n",
       "    <tr>\n",
       "      <th>10572425</th>\n",
       "      <td>1356997591</td>\n",
       "    </tr>\n",
       "    <tr>\n",
       "      <th>10572567</th>\n",
       "      <td>1356997957</td>\n",
       "    </tr>\n",
       "  </tbody>\n",
       "</table>\n",
       "<p>214563 rows × 1 columns</p>\n",
       "</div>"
      ],
      "text/plain": [
       "           timestamp\n",
       "txID                \n",
       "0         1231006505\n",
       "1         1231469665\n",
       "2         1231469744\n",
       "3         1231470173\n",
       "4         1231470988\n",
       "...              ...\n",
       "10571747  1356996072\n",
       "10572165  1356996754\n",
       "10572424  1356997908\n",
       "10572425  1356997591\n",
       "10572567  1356997957\n",
       "\n",
       "[214563 rows x 1 columns]"
      ]
     },
     "execution_count": 13,
     "metadata": {},
     "output_type": "execute_result"
    }
   ],
   "source": [
    "transactions[['timestamp']]"
   ]
  }
 ],
 "metadata": {
  "kernelspec": {
   "display_name": "Python 3 (ipykernel)",
   "language": "python",
   "name": "python3"
  },
  "language_info": {
   "codemirror_mode": {
    "name": "ipython",
    "version": 3
   },
   "file_extension": ".py",
   "mimetype": "text/x-python",
   "name": "python",
   "nbconvert_exporter": "python",
   "pygments_lexer": "ipython3",
   "version": "3.12.3"
  }
 },
 "nbformat": 4,
 "nbformat_minor": 5
}
